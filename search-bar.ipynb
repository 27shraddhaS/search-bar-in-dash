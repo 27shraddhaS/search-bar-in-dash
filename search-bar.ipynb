{
 "cells": [
  {
   "cell_type": "code",
   "execution_count": 1,
   "metadata": {},
   "outputs": [],
   "source": [
    "import numpy as np\n",
    "import pandas as pd\n",
    "import matplotlib.pyplot as plt\n",
    "import dash\n",
    "import dash_core_components as dcc\n",
    "import dash_html_components as html\n",
    "from dash.dependencies import Output,Input,State\n",
    "import plotly.graph_objects as go\n",
    "# from sklearn import linear_model"
   ]
  },
  {
   "cell_type": "code",
   "execution_count": 28,
   "metadata": {},
   "outputs": [],
   "source": [
    "app = dash.Dash()"
   ]
  },
  {
   "cell_type": "code",
   "execution_count": 29,
   "metadata": {},
   "outputs": [],
   "source": [
    "location=['Banashankari', 'Basavanagudi', 'Jayanagar', 'Kumaraswamy Layout',\n",
    "       'Rajarajeshwari Nagar', 'Mysore Road', 'Uttarahalli',\n",
    "       'South Bangalore', 'Vijay Nagar', 'Bannerghatta Road', 'JP Nagar',\n",
    "       'BTM', 'Wilson Garden', 'Koramangala 5th Block', 'Shanti Nagar',\n",
    "       'Richmond Road', 'City Market', 'Bellandur', 'Sarjapur Road',\n",
    "       'Marathahalli', 'HSR', 'Old Airport Road', 'Indiranagar',\n",
    "       'Koramangala 1st Block', 'East Bangalore', 'MG Road',\n",
    "       'Brigade Road', 'Lavelle Road', 'Church Street', 'Ulsoor',\n",
    "       'Residency Road', 'Shivajinagar', 'Infantry Road',\n",
    "       'St. Marks Road', 'Cunningham Road', 'Race Course Road', 'Domlur',\n",
    "       'Koramangala 8th Block', 'Frazer Town', 'Ejipura', 'Vasanth Nagar',\n",
    "       'Jeevan Bhima Nagar', 'Old Madras Road', 'Commercial Street',\n",
    "       'Koramangala 6th Block', 'Majestic', 'Langford Town',\n",
    "       'Koramangala 7th Block', 'Brookefield', 'Whitefield',\n",
    "       'ITPL Main Road, Whitefield', 'Varthur Main Road, Whitefield',\n",
    "       'Koramangala 2nd Block', 'Koramangala 3rd Block',\n",
    "       'Koramangala 4th Block', 'Koramangala', 'Bommanahalli',\n",
    "       'Hosur Road', 'Seshadripuram', 'Electronic City', 'Banaswadi',\n",
    "       'North Bangalore', 'RT Nagar', 'Kammanahalli', 'Hennur',\n",
    "       'HBR Layout', 'Kalyan Nagar', 'Thippasandra', 'CV Raman Nagar',\n",
    "       'Kaggadasapura', 'Kanakapura Road', 'Nagawara', 'Rammurthy Nagar',\n",
    "       'Sankey Road', 'Central Bangalore', 'Malleshwaram',\n",
    "       'Sadashiv Nagar', 'Basaveshwara Nagar', 'Rajajinagar',\n",
    "       'New BEL Road', 'West Bangalore', 'Yeshwantpur', 'Sanjay Nagar',\n",
    "       'Sahakara Nagar', 'Jalahalli', 'Yelahanka', 'Magadi Road',\n",
    "       'KR Puram']"
   ]
  },
  {
   "cell_type": "code",
   "execution_count": 30,
   "metadata": {},
   "outputs": [],
   "source": [
    "option=[]\n",
    "datart= set(location)\n",
    "for rt in datart:\n",
    "    t=dict(label=str(rt),value=str(rt))\n",
    "    option.append(t)\n"
   ]
  },
  {
   "cell_type": "code",
   "execution_count": 31,
   "metadata": {},
   "outputs": [],
   "source": [
    "app.layout = html.Div([html.Div(children=\"Search Your Favourite Restaurants!\",style={'backgroundColor':'#f0f1f2','color':'darkslategray','width':'34%','text-align':'center'}),\n",
    "    html.Div(className='gap2'),\n",
    "    html.Div([\n",
    "       \n",
    "    dcc.Dropdown(\n",
    "        id='hotels-dropdown',\n",
    "        className='dropclass',\n",
    "        options=option,\n",
    "        value='You can display anything here related to the relected value from dropdown.',\n",
    "                \n",
    "    style={\n",
    "        \n",
    "        'width':'550px','display':'inline-block'\n",
    "        \n",
    "    }),\n",
    "     html.Img(src=\"/assets/searchlogo3.png\",className=\"searchlogo\",style={'display':'inline-block','height':'31px','width':'34px','margin-left':'10px'}),\n",
    "    ]),\n",
    "         html.Div(className='gap'),\n",
    "         html.Div(className='gap'),\n",
    "             \n",
    "        html.Div(id='output-container',className=\"oc\",style={\n",
    "        'backgroundColor':'#bec1c2',\n",
    "        'color':'#152526',\n",
    "        'border-radius':4,\n",
    "        'width':'50%',\n",
    "        'height':'200px',\n",
    "       'padding-left':'15px',\n",
    "#        'padding-top':'10px',\n",
    "#        'padding-bottom':'10px'\n",
    "               \n",
    "    })\n",
    "                      ])\n",
    "\n",
    "\n",
    "#callback\n",
    "\n",
    "@app.callback(\n",
    "    Output('output-container', 'children'),\n",
    "    [Input('hotels-dropdown', 'value')])\n",
    "def update_output(value): \n",
    "    \n",
    "    op3=html.Div([html.H3('{}'.format(value))])\n",
    " \n",
    "    return op3"
   ]
  },
  {
   "cell_type": "code",
   "execution_count": 32,
   "metadata": {},
   "outputs": [
    {
     "name": "stdout",
     "output_type": "stream",
     "text": [
      " * Serving Flask app \"__main__\" (lazy loading)\n",
      " * Environment: production\n",
      "   WARNING: Do not use the development server in a production environment.\n",
      "   Use a production WSGI server instead.\n",
      " * Debug mode: off\n"
     ]
    },
    {
     "name": "stderr",
     "output_type": "stream",
     "text": [
      " * Running on http://127.0.0.1:8050/ (Press CTRL+C to quit)\n",
      "127.0.0.1 - - [04/Feb/2021 15:26:37] \"GET / HTTP/1.1\" 200 -\n",
      "127.0.0.1 - - [04/Feb/2021 15:26:37] \"GET /_dash-component-suites/dash_renderer/react@16.8.6.min.js?v=1.0.1&m=1567781217 HTTP/1.1\" 200 -\n",
      "127.0.0.1 - - [04/Feb/2021 15:26:37] \"GET /_dash-component-suites/dash_renderer/prop-types@15.7.2.min.js?v=1.0.1&m=1567781217 HTTP/1.1\" 200 -\n",
      "127.0.0.1 - - [04/Feb/2021 15:26:37] \"GET /_dash-component-suites/dash_renderer/react-dom@16.8.6.min.js?v=1.0.1&m=1567781217 HTTP/1.1\" 200 -\n",
      "127.0.0.1 - - [04/Feb/2021 15:26:37] \"GET /_dash-component-suites/dash_core_components/highlight.pack.js?v=1.1.2&m=1567781220 HTTP/1.1\" 200 -\n",
      "127.0.0.1 - - [04/Feb/2021 15:26:37] \"GET /_dash-component-suites/dash_html_components/dash_html_components.min.js?v=1.0.1&m=1567781222 HTTP/1.1\" 200 -\n",
      "127.0.0.1 - - [04/Feb/2021 15:26:37] \"GET /_dash-component-suites/dash_core_components/dash_core_components.min.js?v=1.1.2&m=1567781220 HTTP/1.1\" 200 -\n",
      "127.0.0.1 - - [04/Feb/2021 15:26:37] \"GET /_dash-component-suites/dash_renderer/dash_renderer.min.js?v=1.0.1&m=1567781217 HTTP/1.1\" 200 -\n",
      "127.0.0.1 - - [04/Feb/2021 15:26:38] \"GET /_dash-component-suites/dash_core_components/plotly-1.49.4.min.js?v=1.1.2&m=1567781220 HTTP/1.1\" 200 -\n",
      "127.0.0.1 - - [04/Feb/2021 15:26:39] \"GET /_dash-layout HTTP/1.1\" 200 -\n",
      "127.0.0.1 - - [04/Feb/2021 15:26:39] \"GET /_dash-dependencies HTTP/1.1\" 200 -\n",
      "127.0.0.1 - - [04/Feb/2021 15:26:39] \"POST /_dash-update-component HTTP/1.1\" 200 -\n"
     ]
    }
   ],
   "source": [
    "if __name__=='__main__':\n",
    "    app.run_server()"
   ]
  },
  {
   "cell_type": "code",
   "execution_count": null,
   "metadata": {},
   "outputs": [],
   "source": []
  },
  {
   "cell_type": "code",
   "execution_count": null,
   "metadata": {},
   "outputs": [],
   "source": []
  }
 ],
 "metadata": {
  "kernelspec": {
   "display_name": "Python 3",
   "language": "python",
   "name": "python3"
  },
  "language_info": {
   "codemirror_mode": {
    "name": "ipython",
    "version": 3
   },
   "file_extension": ".py",
   "mimetype": "text/x-python",
   "name": "python",
   "nbconvert_exporter": "python",
   "pygments_lexer": "ipython3",
   "version": "3.7.3"
  }
 },
 "nbformat": 4,
 "nbformat_minor": 2
}
